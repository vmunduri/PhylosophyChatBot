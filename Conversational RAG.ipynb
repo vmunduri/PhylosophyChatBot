{
 "cells": [
  {
   "cell_type": "code",
   "execution_count": 1,
   "id": "ee08e4ad-d549-45a3-991b-0081f2b17202",
   "metadata": {},
   "outputs": [],
   "source": [
    "from os import putenv\n",
    "putenv(\"HSA_OVERRIDE_GFX_VERSION\", \"11.0.0\") # The line must be defined before importing torch.\n",
    "\n",
    "import torch # OK. The HIP Runtime of PyTorch can recognize your ISA.\n",
    "import torch.nn as nn"
   ]
  },
  {
   "cell_type": "code",
   "execution_count": 2,
   "id": "c618fbe5-cbcc-4d45-a6d3-b9dbdf541991",
   "metadata": {},
   "outputs": [
    {
     "name": "stderr",
     "output_type": "stream",
     "text": [
      "/usr/lib/python3/dist-packages/scipy/__init__.py:146: UserWarning: A NumPy version >=1.17.3 and <1.25.0 is required for this version of SciPy (detected version 1.26.4\n",
      "  warnings.warn(f\"A NumPy version >={np_minversion} and <{np_maxversion}\"\n",
      "Using the `SDPA` attention implementation on multi-gpu setup with ROCM may lead to performance issues due to the FA backend. Disabling it to use alternative backends.\n",
      "/home/tarun1999m/.local/lib/python3.10/site-packages/transformers/generation/configuration_utils.py:567: UserWarning: `do_sample` is set to `False`. However, `temperature` is set to `0.3` -- this flag is only used in sample-based generation modes. You should set `do_sample=True` or unset `temperature`.\n",
      "  warnings.warn(\n"
     ]
    },
    {
     "name": "stdout",
     "output_type": "stream",
     "text": [
      "Why is drinking water so healthy?\n",
      "Drinking enough water every day can help you stay hydrated, which in turn helps your body function properly. It also helps flush out toxins and waste from your body, keeping you healthy and feeling good.\n"
     ]
    }
   ],
   "source": [
    "import torch\n",
    "from transformers import pipeline\n",
    "\n",
    "generate_text = pipeline(\n",
    "    model=\"CobraMamba/mamba-gpt-3b-v2\",\n",
    "    torch_dtype=\"auto\",\n",
    "    trust_remote_code=True,\n",
    "    use_fast=False,\n",
    "    device_map={\"\": \"cuda:0\"},\n",
    ")\n",
    "\n",
    "res = generate_text(\n",
    "    \"Why is drinking water so healthy?\",\n",
    "    min_new_tokens=2,\n",
    "    max_new_tokens=1024,\n",
    "    do_sample=False,\n",
    "    num_beams=1,\n",
    "    temperature=float(0.3),\n",
    "    repetition_penalty=float(1.2),\n",
    "    renormalize_logits=True\n",
    ")\n",
    "print(res[0][\"generated_text\"])\n"
   ]
  },
  {
   "cell_type": "code",
   "execution_count": 3,
   "id": "531a1863-2f9e-4e30-9071-935cf7b74cd7",
   "metadata": {},
   "outputs": [
    {
     "name": "stdout",
     "output_type": "stream",
     "text": [
      "You are the AI assistant for me, give me answer for below question, question: How to make biryani?\n",
      "Answer:\n",
      "Biryani is a popular Indian dish that is made with rice and meat or vegetables. To make biryani, you will need to follow these steps:\n",
      "1. Wash the rice thoroughly and soak it in water for at least 30 minutes.\n",
      "2. In a large pot, heat oil and add cumin seeds, onion, and garlic. Sauté until onions become translucent.\n",
      "3. Add spices such as turmeric powder, red chili powder, and garam masala. Mix well and cook for a few minutes.\n",
      "4. Add chopped chicken or mutton and mix well.\n",
      "5. Pour enough water to cover the rice and bring it to a boil. Reduce heat to low and simmer for about 15-20 minutes or until the rice is cooked.\n",
      "6. Once the rice is cooked, add the soaked rice to the pot and mix well. Cover the pot and let it steam for another 10-15 minutes.\n",
      "7. Finally, garnish the biryani with fresh coriander leaves and serve hot.\n"
     ]
    }
   ],
   "source": [
    "res = generate_text(\n",
    "    \"You are the AI assistant for me, give me answer for below question, question: How to make biryani?\",\n",
    "    min_new_tokens=2,\n",
    "    max_new_tokens=1024,\n",
    "    do_sample=False,\n",
    "    num_beams=1,\n",
    "    temperature=float(0.3),\n",
    "    repetition_penalty=float(1.2),\n",
    "    renormalize_logits=True\n",
    ")\n",
    "print(res[0][\"generated_text\"])"
   ]
  },
  {
   "cell_type": "markdown",
   "id": "b4da3358-c96f-46be-8562-7925bd3cd0d8",
   "metadata": {},
   "source": [
    "#### Data Loader:"
   ]
  },
  {
   "cell_type": "code",
   "execution_count": 2,
   "id": "058b3c00-bb48-48a9-b1d0-d2008759a2a9",
   "metadata": {},
   "outputs": [
    {
     "name": "stderr",
     "output_type": "stream",
     "text": [
      "/usr/lib/python3/dist-packages/scipy/__init__.py:146: UserWarning: A NumPy version >=1.17.3 and <1.25.0 is required for this version of SciPy (detected version 1.26.4\n",
      "  warnings.warn(f\"A NumPy version >={np_minversion} and <{np_maxversion}\"\n"
     ]
    }
   ],
   "source": [
    "from datasets import load_dataset\n",
    "\n",
    "dataset = load_dataset(\"AiresPucrs/stanford-encyclopedia-philosophy\", split='train')\n"
   ]
  },
  {
   "cell_type": "code",
   "execution_count": 3,
   "id": "54db4be8-4923-4b46-ab91-c652392bbc51",
   "metadata": {},
   "outputs": [
    {
     "data": {
      "text/plain": [
       "Dataset({\n",
       "    features: ['metadata', 'text', 'category'],\n",
       "    num_rows: 182531\n",
       "})"
      ]
     },
     "execution_count": 3,
     "metadata": {},
     "output_type": "execute_result"
    }
   ],
   "source": [
    "dataset"
   ]
  },
  {
   "cell_type": "code",
   "execution_count": 4,
   "id": "14e8bebb-51d9-4aa7-ab8e-9101e02c4168",
   "metadata": {},
   "outputs": [],
   "source": [
    "docs = [text for text in dataset['text']]\n",
    "combined_text = \" \".join(docs)"
   ]
  },
  {
   "cell_type": "code",
   "execution_count": 5,
   "id": "a655f0ef-cddf-41a6-bb6f-5dba421fefe4",
   "metadata": {},
   "outputs": [],
   "source": [
    "from langchain_text_splitters import RecursiveCharacterTextSplitter\n",
    "\n",
    "text_splitter = RecursiveCharacterTextSplitter(chunk_size = 1500, chunk_overlap = 20)"
   ]
  },
  {
   "cell_type": "code",
   "execution_count": 6,
   "id": "d064786d-80f6-480f-b4ae-2ec0a85602a7",
   "metadata": {},
   "outputs": [],
   "source": [
    "documents = text_splitter.create_documents([combined_text])"
   ]
  },
  {
   "cell_type": "code",
   "execution_count": 7,
   "id": "86ff235b-bc17-4ae2-b70a-0d6312716ece",
   "metadata": {},
   "outputs": [
    {
     "data": {
      "text/plain": [
       "88918"
      ]
     },
     "execution_count": 7,
     "metadata": {},
     "output_type": "execute_result"
    }
   ],
   "source": [
    "len(documents)"
   ]
  },
  {
   "cell_type": "code",
   "execution_count": 8,
   "id": "b9180075-469c-4828-a962-8bf059ce4b86",
   "metadata": {},
   "outputs": [],
   "source": [
    "documents_str = [text.page_content for text in documents]"
   ]
  },
  {
   "cell_type": "code",
   "execution_count": 20,
   "id": "88789da2-24f3-4660-b0e9-57333180a9c1",
   "metadata": {},
   "outputs": [],
   "source": [
    "from langchain.embeddings.base import Embeddings\n",
    "import numpy as np\n",
    "\n",
    "class SentenceTransformerEmbeddings(Embeddings): #We need to inherit from Embeddings for integrating into langchain pipeline\n",
    "    def __init__(self, model):\n",
    "        self.model = model\n",
    "\n",
    "    def embed_documents(self,texts):\n",
    "        return [self.model.encode(text) for text in texts]\n",
    "\n",
    "    def embed_query(self, query):\n",
    "        return self.model.encode(query)"
   ]
  },
  {
   "cell_type": "code",
   "execution_count": 22,
   "id": "8d37cd6f-1227-4ead-b31b-6073e1918476",
   "metadata": {},
   "outputs": [
    {
     "name": "stderr",
     "output_type": "stream",
     "text": [
      "/home/tarun1999m/.local/lib/python3.10/site-packages/transformers/tokenization_utils_base.py:1601: FutureWarning: `clean_up_tokenization_spaces` was not set. It will be set to `True` by default. This behavior will be depracted in transformers v4.45, and will be then set to `False` by default. For more details check this issue: https://github.com/huggingface/transformers/issues/31884\n",
      "  warnings.warn(\n"
     ]
    }
   ],
   "source": [
    "from sentence_transformers import SentenceTransformer\n",
    "\n",
    "embedding_model = SentenceTransformer('all-mpnet-base-v2')"
   ]
  },
  {
   "cell_type": "code",
   "execution_count": 25,
   "id": "b06e13de-4d8a-44d2-b63e-1e8b4050af33",
   "metadata": {},
   "outputs": [],
   "source": [
    "sentence_embeddings = SentenceTransformerEmbeddings(embedding_model)"
   ]
  },
  {
   "cell_type": "code",
   "execution_count": 12,
   "id": "85d97ef1-d756-4099-8304-4197f2960bfd",
   "metadata": {},
   "outputs": [],
   "source": [
    "from langchain_community.vectorstores import FAISS\n",
    "\n",
    "db = FAISS.from_documents(documents, sentence_embeddings)"
   ]
  },
  {
   "cell_type": "code",
   "execution_count": 13,
   "id": "bcad4430-54a9-4462-90d8-63cc868a2432",
   "metadata": {},
   "outputs": [],
   "source": [
    "db.save_local(\"faiss_index\")\n"
   ]
  },
  {
   "cell_type": "code",
   "execution_count": 26,
   "id": "a272ba4a-ce53-4ff4-8ed7-67927fe7d491",
   "metadata": {},
   "outputs": [],
   "source": [
    "db = FAISS.load_local(\"faiss_index\", sentence_embeddings, allow_dangerous_deserialization=True)\n"
   ]
  },
  {
   "cell_type": "code",
   "execution_count": 29,
   "id": "6b3a3f94-2069-4421-8a83-fb17982c6869",
   "metadata": {},
   "outputs": [
    {
     "name": "stdout",
     "output_type": "stream",
     "text": [
      "list includes only those that cover more than one branch of the tradition. Those devoted to one branch exclusively are cited in the relevant sections, and their details are in the References section below.  [Jewish philosophy in Hebrew is considered briefly in volume 3, 249–91. Volume 4 stops just after 1400; Volume 3 continues to modern times. These books are based on a podcast  (https://historyofphilosophy.net/,  which continues.]  [This book pioneered the idea of presenting the four branches of medieval philosophy together: it begins c. 500 and ends with the fifteenth century.]  [The Grundriss—“the New Ueberweg”—is conceived as a comprehensive handbook to the history of philosophy. In Die Philosophie des Mittelalters series, there have been published  In Philosophie in der islamischen Welt, there have been published  An online translated version of Volume 1 of the Islamic series has been produced by Brill under the title Philosophy in the Islamic World Online: 8th–10th Centuries)]  [Covers all four branches, 500–1500 CE, articles on individual figures and sources (very wide range) and a smaller number of topical articles. Treatment normally less full than in Stanford Encyclopedia, when there is an entry there.]  [Covers all four branches, but scant on Arabic philosophy post-1100 except in Spain. Stops at 1400.]  [Covers all four branches, but weak on on Arabic philosophy post-1100 except in Spain. Part One contains historico-geographical chapters, Part Two studies of\n",
      "\n",
      "\n",
      "of phenomenology forms one basic field in philosophy among others. How is phenomenology distinguished from, and related to, other fields in philosophy?   Traditionally, philosophy includes at least four core fields or disciplines: ontology, epistemology, ethics, logic. Suppose phenomenology joins that list. Consider then these elementary definitions of field:   The domains of study in these five fields are clearly different, and they seem to call for different methods of study.   Philosophers have sometimes argued that one of these fields is “first philosophy”, the most fundamental discipline, on which all philosophy or all knowledge or wisdom rests. Historically (it may be argued), Socrates and Plato put ethics first, then Aristotle put metaphysics or ontology first, then Descartes put epistemology first, then Russell put logic first, and then Husserl (in his later transcendental phase) put phenomenology first.   Consider epistemology. As we saw, phenomenology helps to define the phenomena on which knowledge claims rest, according to modern epistemology. On the other hand, phenomenology itself claims to achieve knowledge about the nature of consciousness, a distinctive kind of first-person knowledge, through a form of intuition.   Consider logic. As we saw, logical theory of meaning led Husserl into the theory of intentionality, the heart of phenomenology. On one account, phenomenology explicates the intentional or semantic force of ideal meanings, and propositional\n",
      "\n",
      "\n",
      "in relative isolation from one another. It is time to emphasize the ‘relative’ qualifier. A common assumption of those who do philosophy in the West nowadays is that it had its roots in Greece. Park (2013), however, has argued that the more common view in the eighteenth century was that it began in India and/or Africa, which then passed it onto Greece. And as Van Norden (2017) points out, European philosophers who encountered Chinese thought in the 17th century immediately recognized it as philosophy. The Jesuits, who were deeply trained in philosophy, produced the first major translation of the Analects into a European language, and titled it Confucius Sinarum Philosophus (Confucius the Chinese Philosopher, 1687). Leibniz was greatly struck by the way the Book of Changes represents the structure of the world through a system of broken and unbroken lines, which he believed to bear uncanny resemblance to his invention of binary arithmetic, which was to become the digital language of computers.   Chinese and Western traditions may currently be undergoing an increased period of interaction and mutual influence. Wong (2009) develops a metaethical theory drawing from contemporary forms of philosophical naturalism, Hume, Mencius, and Xunzi. Stephen Angle (2012) defines two kinds of comparative philosophy: (a) “rooted global philosophy” is working within a particular live philosophical tradition in such a way as to be open to stimulus and insights from other philosophical\n",
      "\n",
      "\n",
      "Philosophy”. Like almost everywhere else in the world, the twentieth century in China was characterized by the incorporation of ideas from other cultures, most obviously from Europe. The terms “philosophy” and “metaphysics” were introduced as distinct concepts through translation and thus they become the objects of conscious reflection. Even scholars dedicated to “Chinese Philosophy” set themselves in dialogue with the West, so that almost all philosophy was more or less fusion philosophy. The main influences from Europe were Kant, Hegel, and Marx, but a wide range of philosophers were incorporated, including Nietzsche, Bergson, Dewey, and Heidegger. Almost all of the major philosophers in China—from Xiong Shili 熊十力 (1885–1968) to Feng Youlan 馮友蘭 (1895–1990) to Mou Zongsan 牟宗三 (1909–1995)—were concerned with establishing a metaphysical foundation for Chinese  Philosophy.[13]  These philosophers, drawing on resources from multiple cultures and traditions, are better suited for an entry on “Metaphysics” than one on “Metaphysics in Chinese Philosophy”.  Chinese Philosophy: Chan Buddhism |  Chinese Philosophy: epistemology |  Chinese Philosophy: ethics |  Chinese Philosophy: philosophy of change |  Chinese Philosophy: science |  Chinese Philosophy: Tiantai Buddhism |  Chinese Philosophy: translating and interpreting |  comparative philosophy: Chinese and Western |  Daoism |  Laozi |  Madhyamaka |  Mencius |  metaphysics |  Neo-Daoism |  School of Names |  Wang Yangming |\n",
      "\n",
      "\n"
     ]
    }
   ],
   "source": [
    "# Perform a query by using the retriever\n",
    "retriever = db.as_retriever()  # Convert FAISS into a retriever object\n",
    "query = \"What are the main branches of philosophy and how do they differ?\"\n",
    "retrieved_docs = retriever.get_relevant_documents(query)\n",
    "\n",
    "# Print out the retrieved documents\n",
    "for doc in retrieved_docs:\n",
    "    print(doc.page_content)\n",
    "    print('\\n')\n"
   ]
  },
  {
   "cell_type": "code",
   "execution_count": null,
   "id": "0aa284b1-c445-4bda-a1b7-503c7afb1d5f",
   "metadata": {},
   "outputs": [],
   "source": []
  },
  {
   "cell_type": "code",
   "execution_count": null,
   "id": "5b0dcaa8-6741-4104-ae1a-dbf83ad006f8",
   "metadata": {},
   "outputs": [],
   "source": []
  },
  {
   "cell_type": "code",
   "execution_count": null,
   "id": "31d2c5be-adf0-418f-b18c-6f78818ebe68",
   "metadata": {},
   "outputs": [],
   "source": []
  }
 ],
 "metadata": {
  "kernelspec": {
   "display_name": "Python 3 (ipykernel)",
   "language": "python",
   "name": "python3"
  },
  "language_info": {
   "codemirror_mode": {
    "name": "ipython",
    "version": 3
   },
   "file_extension": ".py",
   "mimetype": "text/x-python",
   "name": "python",
   "nbconvert_exporter": "python",
   "pygments_lexer": "ipython3",
   "version": "3.10.12"
  }
 },
 "nbformat": 4,
 "nbformat_minor": 5
}
